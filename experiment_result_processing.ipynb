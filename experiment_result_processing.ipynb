{
 "cells": [
  {
   "cell_type": "markdown",
   "metadata": {
    "pycharm": {
     "name": "#%% md\n"
    }
   },
   "source": [
    "Imports"
   ]
  },
  {
   "cell_type": "code",
   "execution_count": 1,
   "metadata": {
    "pycharm": {
     "name": "#%%\n"
    }
   },
   "outputs": [],
   "source": [
    "import os\n",
    "import numpy as np\n",
    "import pandas as pd\n",
    "import seaborn as sns\n",
    "import matplotlib.pyplot as plt\n",
    "# import eesr"
   ]
  },
  {
   "cell_type": "markdown",
   "metadata": {},
   "source": [
    "# Functions"
   ]
  },
  {
   "cell_type": "code",
   "execution_count": 8,
   "metadata": {
    "pycharm": {
     "name": "#%%\n"
    }
   },
   "outputs": [],
   "source": [
    "# Creates a dataframe with the results of the experiments based on the parameters.\n",
    "def create_dataframe(path_ex, file_name, dcs = '', tpp = ''):\n",
    "    select_dcs = \"dcs_\" + dcs\n",
    "    select_tpp = \"tpp_\" + tpp\n",
    "    df = pd.DataFrame()\n",
    "    for folder in next(os.walk(path_ex))[1]:\n",
    "        if (select_dcs in folder) & (select_tpp in folder):\n",
    "            file_path = os.path.join(path_ex, folder, file_name)\n",
    "            if '.tsv' in file_name:\n",
    "              data = pd.read_csv(file_path, delimiter='\\t')\n",
    "            else:\n",
    "              data = pd.read_csv(file_path, delimiter=',')\n",
    "            data['trace_name'] = folder\n",
    "            df = pd.concat([df, data])\n",
    "\n",
    "    return df\n",
    "\n",
    "# Creates a dataframe with the environment stats of the specified file.\n",
    "def create_env_dataframe(path_ex, trace_name):\n",
    "    file_name = 'environment.csv'\n",
    "    df = pd.DataFrame()\n",
    "    for folder in next(os.walk(path_ex))[1]:\n",
    "        if (trace_name in folder):\n",
    "            file_path = os.path.join(path_ex, folder, file_name)\n",
    "            data = pd.read_csv(file_path)\n",
    "            data['trace_name'] = folder\n",
    "            df = pd.concat([df, data])\n",
    "    return df\n",
    "\n",
    "# Splits the environment dataframe into a dataframe for each environment and writes it to a csv file.\n",
    "# def split_env_dataframe(df, path_ex):\n",
    "\n"
   ]
  },
  {
   "attachments": {},
   "cell_type": "markdown",
   "metadata": {},
   "source": [
    "# Variables"
   ]
  },
  {
   "cell_type": "markdown",
   "metadata": {
    "pycharm": {
     "name": "#%% md\n"
    }
   },
   "source": [
    "Experiment paths"
   ]
  },
  {
   "cell_type": "code",
   "execution_count": 9,
   "metadata": {
    "pycharm": {
     "name": "#%%\n"
    }
   },
   "outputs": [],
   "source": [
    "path_ex1 = '../EX_1/'\n",
    "path_ex2 = '../EX_2'"
   ]
  },
  {
   "attachments": {},
   "cell_type": "markdown",
   "metadata": {},
   "source": [
    "Datacentre dependent dataframes"
   ]
  },
  {
   "cell_type": "code",
   "execution_count": 62,
   "metadata": {},
   "outputs": [],
   "source": [
    "stats_dc1_df = create_dataframe(path_ex=path_ex1, file_name = 'stats.tsv', dcs='1', tpp='')\n",
    "stats_dc2_df = create_dataframe(path_ex=path_ex1, file_name = 'stats.tsv', dcs='2', tpp='')\n",
    "\n",
    "summary_dc1_df = create_dataframe(path_ex=path_ex1, file_name = 'summary.tsv', dcs='1', tpp='')\n",
    "summary_dc2_df = create_dataframe(path_ex=path_ex1, file_name = 'summary.tsv', dcs='2', tpp='')\n",
    "\n",
    "tasks_dc1_df = create_dataframe(path_ex=path_ex1, file_name = 'tasks.tsv', dcs='1', tpp='')\n",
    "tasks_dc2_df = create_dataframe(path_ex=path_ex1, file_name = 'tasks.tsv', dcs='2', tpp='')\n",
    "\n",
    "workflows_dc1_df = create_dataframe(path_ex=path_ex1, file_name = 'workflows.tsv', dcs='1', tpp='')\n",
    "workflows_dc2_df = create_dataframe(path_ex=path_ex1, file_name = 'workflows.tsv', dcs='2', tpp='')"
   ]
  },
  {
   "attachments": {},
   "cell_type": "markdown",
   "metadata": {},
   "source": [
    "Fastest Machine Placement variables"
   ]
  },
  {
   "cell_type": "code",
   "execution_count": 4,
   "metadata": {
    "pycharm": {
     "name": "#%%\n"
    }
   },
   "outputs": [],
   "source": [
    "stats_dc1_fmp_df = create_dataframe(path_ex=path_ex1, file_name = 'stats.tsv', dcs='1', tpp='fastest_machine')\n",
    "stats_dc2_fmp_df = create_dataframe(path_ex=path_ex1, file_name = 'stats.tsv', dcs='2', tpp='fastest_machine')\n",
    "\n",
    "summary_dc1_fmp_df = create_dataframe(path_ex=path_ex1, file_name = 'summary.tsv', dcs='1', tpp='fastest_machine')\n",
    "summary_dc2_fmp_df = create_dataframe(path_ex=path_ex1, file_name = 'summary.tsv', dcs='2', tpp='fastest_machine')\n",
    "\n",
    "tasks_dc1_fmp_df = create_dataframe(path_ex=path_ex1, file_name = 'tasks.tsv', dcs='1', tpp='fastest_machine')\n",
    "tasks_dc2_fmp_df = create_dataframe(path_ex=path_ex1, file_name = 'tasks.tsv', dcs='2', tpp='fastest_machine')\n",
    "\n",
    "workflows_dc1_fmp_df = create_dataframe(path_ex=path_ex1, file_name = 'workflows.tsv', dcs='1', tpp='fastest_machine')\n",
    "workflows_dc2_fmp_df = create_dataframe(path_ex=path_ex1, file_name = 'workflows.tsv', dcs='2', tpp='fastest_machine')"
   ]
  },
  {
   "attachments": {},
   "cell_type": "markdown",
   "metadata": {},
   "source": [
    "Look Ahead Placement variables"
   ]
  },
  {
   "cell_type": "code",
   "execution_count": 5,
   "metadata": {
    "tags": []
   },
   "outputs": [],
   "source": [
    "stats_dc1_lah_df = create_dataframe(path_ex=path_ex1, file_name = 'stats.tsv', dcs='1', tpp='look_ahead')\n",
    "stats_dc2_lah_df = create_dataframe(path_ex=path_ex1, file_name = 'stats.tsv', dcs='2', tpp='look_ahead')\n",
    "\n",
    "summary_dc1_lah_df = create_dataframe(path_ex=path_ex1, file_name = 'summary.tsv', dcs='1', tpp='look_ahead')\n",
    "summary_dc2_lah_df = create_dataframe(path_ex=path_ex1, file_name = 'summary.tsv', dcs='2', tpp='look_ahead')\n",
    "\n",
    "tasks_dc1_lah_df = create_dataframe(path_ex=path_ex1, file_name = 'tasks.tsv', dcs='1', tpp='look_ahead')\n",
    "tasks_dc2_lah_df = create_dataframe(path_ex=path_ex1, file_name = 'tasks.tsv', dcs='2', tpp='look_ahead')\n",
    "\n",
    "workflows_dc1_lah_df = create_dataframe(path_ex=path_ex1, file_name = 'workflows.tsv', dcs='1', tpp='look_ahead')\n",
    "workflows_dc2_lah_df = create_dataframe(path_ex=path_ex1, file_name = 'workflows.tsv', dcs='2', tpp='look_ahead')"
   ]
  },
  {
   "attachments": {},
   "cell_type": "markdown",
   "metadata": {},
   "source": [
    "# Exploration"
   ]
  },
  {
   "cell_type": "code",
   "execution_count": 21,
   "metadata": {},
   "outputs": [
    {
     "data": {
      "text/html": [
       "<div>\n",
       "<style scoped>\n",
       "    .dataframe tbody tr th:only-of-type {\n",
       "        vertical-align: middle;\n",
       "    }\n",
       "\n",
       "    .dataframe tbody tr th {\n",
       "        vertical-align: top;\n",
       "    }\n",
       "\n",
       "    .dataframe thead th {\n",
       "        text-align: right;\n",
       "    }\n",
       "</style>\n",
       "<table border=\"1\" class=\"dataframe\">\n",
       "  <thead>\n",
       "    <tr style=\"text-align: right;\">\n",
       "      <th></th>\n",
       "      <th>TraceDuration</th>\n",
       "      <th>TotalResourceUsage</th>\n",
       "      <th>AverageCPUUsage</th>\n",
       "      <th>AvgResourceUsage</th>\n",
       "      <th>trace_name</th>\n",
       "    </tr>\n",
       "  </thead>\n",
       "  <tbody>\n",
       "    <tr>\n",
       "      <th>0</th>\n",
       "      <td>1978356317</td>\n",
       "      <td>10785263</td>\n",
       "      <td>0.01</td>\n",
       "      <td>0.000009</td>\n",
       "      <td>askalon-new_ee68_parquet_tpp_look_ahead_dcs_1</td>\n",
       "    </tr>\n",
       "  </tbody>\n",
       "</table>\n",
       "</div>"
      ],
      "text/plain": [
       "   TraceDuration  TotalResourceUsage  AverageCPUUsage  AvgResourceUsage  \\\n",
       "0     1978356317            10785263             0.01          0.000009   \n",
       "\n",
       "                                      trace_name  \n",
       "0  askalon-new_ee68_parquet_tpp_look_ahead_dcs_1  "
      ]
     },
     "execution_count": 21,
     "metadata": {},
     "output_type": "execute_result"
    }
   ],
   "source": [
    "stats_dc1_df[stats_dc1_df['trace_name'] == 'askalon-new_ee68_parquet_tpp_look_ahead_dcs_1']"
   ]
  },
  {
   "cell_type": "code",
   "execution_count": 45,
   "metadata": {},
   "outputs": [
    {
     "data": {
      "text/html": [
       "<div>\n",
       "<style scoped>\n",
       "    .dataframe tbody tr th:only-of-type {\n",
       "        vertical-align: middle;\n",
       "    }\n",
       "\n",
       "    .dataframe tbody tr th {\n",
       "        vertical-align: top;\n",
       "    }\n",
       "\n",
       "    .dataframe thead th {\n",
       "        text-align: right;\n",
       "    }\n",
       "</style>\n",
       "<table border=\"1\" class=\"dataframe\">\n",
       "  <thead>\n",
       "    <tr style=\"text-align: right;\">\n",
       "      <th></th>\n",
       "      <th>TraceDuration</th>\n",
       "      <th>TotalResourceUsage</th>\n",
       "      <th>AverageCPUUsage</th>\n",
       "      <th>AvgResourceUsage</th>\n",
       "      <th>trace_name</th>\n",
       "    </tr>\n",
       "  </thead>\n",
       "  <tbody>\n",
       "    <tr>\n",
       "      <th>0</th>\n",
       "      <td>5348902</td>\n",
       "      <td>2106293456</td>\n",
       "      <td>393.78</td>\n",
       "      <td>0.683647</td>\n",
       "      <td>spec_trace-1_parquet_tpp_fastest_machine_dcs_1</td>\n",
       "    </tr>\n",
       "    <tr>\n",
       "      <th>0</th>\n",
       "      <td>5348902</td>\n",
       "      <td>2106293456</td>\n",
       "      <td>393.78</td>\n",
       "      <td>0.683647</td>\n",
       "      <td>spec_trace-1_parquet_tpp_look_ahead_dcs_1</td>\n",
       "    </tr>\n",
       "    <tr>\n",
       "      <th>0</th>\n",
       "      <td>5403452</td>\n",
       "      <td>2325476523</td>\n",
       "      <td>430.37</td>\n",
       "      <td>0.747168</td>\n",
       "      <td>spec_trace-2_parquet_tpp_fastest_machine_dcs_1</td>\n",
       "    </tr>\n",
       "    <tr>\n",
       "      <th>0</th>\n",
       "      <td>5403452</td>\n",
       "      <td>2325476523</td>\n",
       "      <td>430.37</td>\n",
       "      <td>0.747168</td>\n",
       "      <td>spec_trace-2_parquet_tpp_look_ahead_dcs_1</td>\n",
       "    </tr>\n",
       "    <tr>\n",
       "      <th>0</th>\n",
       "      <td>338630</td>\n",
       "      <td>20009940</td>\n",
       "      <td>59.09</td>\n",
       "      <td>0.102588</td>\n",
       "      <td>workflowhub_epigenomics_dataset-ilmn_chameleon...</td>\n",
       "    </tr>\n",
       "    <tr>\n",
       "      <th>0</th>\n",
       "      <td>338630</td>\n",
       "      <td>20009940</td>\n",
       "      <td>59.09</td>\n",
       "      <td>0.102588</td>\n",
       "      <td>workflowhub_epigenomics_dataset-ilmn_chameleon...</td>\n",
       "    </tr>\n",
       "  </tbody>\n",
       "</table>\n",
       "</div>"
      ],
      "text/plain": [
       "   TraceDuration  TotalResourceUsage  AverageCPUUsage  AvgResourceUsage  \\\n",
       "0        5348902          2106293456           393.78          0.683647   \n",
       "0        5348902          2106293456           393.78          0.683647   \n",
       "0        5403452          2325476523           430.37          0.747168   \n",
       "0        5403452          2325476523           430.37          0.747168   \n",
       "0         338630            20009940            59.09          0.102588   \n",
       "0         338630            20009940            59.09          0.102588   \n",
       "\n",
       "                                          trace_name  \n",
       "0     spec_trace-1_parquet_tpp_fastest_machine_dcs_1  \n",
       "0          spec_trace-1_parquet_tpp_look_ahead_dcs_1  \n",
       "0     spec_trace-2_parquet_tpp_fastest_machine_dcs_1  \n",
       "0          spec_trace-2_parquet_tpp_look_ahead_dcs_1  \n",
       "0  workflowhub_epigenomics_dataset-ilmn_chameleon...  \n",
       "0  workflowhub_epigenomics_dataset-ilmn_chameleon...  "
      ]
     },
     "execution_count": 45,
     "metadata": {},
     "output_type": "execute_result"
    }
   ],
   "source": [
    "stats_dc1_df[stats_dc1_df['AvgResourceUsage'] >= 0.1]"
   ]
  },
  {
   "cell_type": "code",
   "execution_count": 28,
   "metadata": {},
   "outputs": [
    {
     "data": {
      "text/html": [
       "<div>\n",
       "<style scoped>\n",
       "    .dataframe tbody tr th:only-of-type {\n",
       "        vertical-align: middle;\n",
       "    }\n",
       "\n",
       "    .dataframe tbody tr th {\n",
       "        vertical-align: top;\n",
       "    }\n",
       "\n",
       "    .dataframe thead th {\n",
       "        text-align: right;\n",
       "    }\n",
       "</style>\n",
       "<table border=\"1\" class=\"dataframe\">\n",
       "  <thead>\n",
       "    <tr style=\"text-align: right;\">\n",
       "      <th></th>\n",
       "      <th>TraceDuration</th>\n",
       "      <th>TotalResourceUsage</th>\n",
       "      <th>AverageCPUUsage</th>\n",
       "      <th>AvgResourceUsage</th>\n",
       "    </tr>\n",
       "  </thead>\n",
       "  <tbody>\n",
       "    <tr>\n",
       "      <th>count</th>\n",
       "      <td>1.760000e+02</td>\n",
       "      <td>1.760000e+02</td>\n",
       "      <td>176.000000</td>\n",
       "      <td>176.000000</td>\n",
       "    </tr>\n",
       "    <tr>\n",
       "      <th>mean</th>\n",
       "      <td>5.032061e+07</td>\n",
       "      <td>1.207853e+08</td>\n",
       "      <td>14.254773</td>\n",
       "      <td>0.024748</td>\n",
       "    </tr>\n",
       "    <tr>\n",
       "      <th>std</th>\n",
       "      <td>2.138286e+08</td>\n",
       "      <td>4.766883e+08</td>\n",
       "      <td>61.971333</td>\n",
       "      <td>0.107589</td>\n",
       "    </tr>\n",
       "    <tr>\n",
       "      <th>min</th>\n",
       "      <td>1.260320e+05</td>\n",
       "      <td>3.360170e+05</td>\n",
       "      <td>0.010000</td>\n",
       "      <td>0.000009</td>\n",
       "    </tr>\n",
       "    <tr>\n",
       "      <th>25%</th>\n",
       "      <td>4.880140e+06</td>\n",
       "      <td>4.275968e+06</td>\n",
       "      <td>0.592500</td>\n",
       "      <td>0.001030</td>\n",
       "    </tr>\n",
       "    <tr>\n",
       "      <th>50%</th>\n",
       "      <td>9.440690e+06</td>\n",
       "      <td>8.481290e+06</td>\n",
       "      <td>0.995000</td>\n",
       "      <td>0.001730</td>\n",
       "    </tr>\n",
       "    <tr>\n",
       "      <th>75%</th>\n",
       "      <td>2.034142e+07</td>\n",
       "      <td>1.593006e+07</td>\n",
       "      <td>2.232500</td>\n",
       "      <td>0.003879</td>\n",
       "    </tr>\n",
       "    <tr>\n",
       "      <th>max</th>\n",
       "      <td>1.978356e+09</td>\n",
       "      <td>2.977778e+09</td>\n",
       "      <td>430.370000</td>\n",
       "      <td>0.747168</td>\n",
       "    </tr>\n",
       "  </tbody>\n",
       "</table>\n",
       "</div>"
      ],
      "text/plain": [
       "       TraceDuration  TotalResourceUsage  AverageCPUUsage  AvgResourceUsage\n",
       "count   1.760000e+02        1.760000e+02       176.000000        176.000000\n",
       "mean    5.032061e+07        1.207853e+08        14.254773          0.024748\n",
       "std     2.138286e+08        4.766883e+08        61.971333          0.107589\n",
       "min     1.260320e+05        3.360170e+05         0.010000          0.000009\n",
       "25%     4.880140e+06        4.275968e+06         0.592500          0.001030\n",
       "50%     9.440690e+06        8.481290e+06         0.995000          0.001730\n",
       "75%     2.034142e+07        1.593006e+07         2.232500          0.003879\n",
       "max     1.978356e+09        2.977778e+09       430.370000          0.747168"
      ]
     },
     "execution_count": 28,
     "metadata": {},
     "output_type": "execute_result"
    }
   ],
   "source": [
    "stats_dc1_df.describe()"
   ]
  },
  {
   "cell_type": "code",
   "execution_count": 16,
   "metadata": {},
   "outputs": [
    {
     "name": "stderr",
     "output_type": "stream",
     "text": [
      "C:\\Users\\Radu\\AppData\\Local\\Temp\\ipykernel_25332\\3423918360.py:1: FutureWarning: The default value of numeric_only in DataFrame.corr is deprecated. In a future version, it will default to False. Select only valid columns or specify the value of numeric_only to silence this warning.\n",
      "  sns.heatmap(stats_dc1_df.corr(), annot=True)\n"
     ]
    },
    {
     "data": {
      "text/plain": [
       "<AxesSubplot: >"
      ]
     },
     "execution_count": 16,
     "metadata": {},
     "output_type": "execute_result"
    },
    {
     "data": {
      "image/png": "[encoded data removed]",
      "text/plain": [
       "<Figure size 432x288 with 2 Axes>"
      ]
     },
     "metadata": {
      "needs_background": "light"
     },
     "output_type": "display_data"
    }
   ],
   "source": [
    "sns.heatmap(stats_dc1_df.corr(), annot=True)"
   ]
  },
  {
   "cell_type": "code",
   "execution_count": 26,
   "metadata": {},
   "outputs": [
    {
     "data": {
      "text/plain": [
       "<AxesSubplot: >"
      ]
     },
     "execution_count": 26,
     "metadata": {},
     "output_type": "execute_result"
    },
    {
     "data": {
      "image/png": "[encoded data removed]",
      "text/plain": [
       "<Figure size 432x288 with 1 Axes>"
      ]
     },
     "metadata": {
      "needs_background": "light"
     },
     "output_type": "display_data"
    }
   ],
   "source": [
    "stats_dc1_df.boxplot(column=['AvgResourceUsage'])"
   ]
  },
  {
   "cell_type": "code",
   "execution_count": 39,
   "metadata": {},
   "outputs": [
    {
     "data": {
      "text/html": [
       "<div>\n",
       "<style scoped>\n",
       "    .dataframe tbody tr th:only-of-type {\n",
       "        vertical-align: middle;\n",
       "    }\n",
       "\n",
       "    .dataframe tbody tr th {\n",
       "        vertical-align: top;\n",
       "    }\n",
       "\n",
       "    .dataframe thead th {\n",
       "        text-align: right;\n",
       "    }\n",
       "</style>\n",
       "<table border=\"1\" class=\"dataframe\">\n",
       "  <thead>\n",
       "    <tr style=\"text-align: right;\">\n",
       "      <th></th>\n",
       "      <th>TraceDuration</th>\n",
       "      <th>TotalResourceUsage</th>\n",
       "      <th>AverageCPUUsage</th>\n",
       "      <th>AvgResourceUsage</th>\n",
       "      <th>trace_name</th>\n",
       "    </tr>\n",
       "  </thead>\n",
       "  <tbody>\n",
       "    <tr>\n",
       "      <th>0</th>\n",
       "      <td>5348902</td>\n",
       "      <td>2106293456</td>\n",
       "      <td>393.78</td>\n",
       "      <td>0.341823</td>\n",
       "      <td>spec_trace-1_parquet_tpp_fastest_machine_dcs_2</td>\n",
       "    </tr>\n",
       "    <tr>\n",
       "      <th>0</th>\n",
       "      <td>5348902</td>\n",
       "      <td>2106293456</td>\n",
       "      <td>393.78</td>\n",
       "      <td>0.341823</td>\n",
       "      <td>spec_trace-1_parquet_tpp_look_ahead_dcs_2</td>\n",
       "    </tr>\n",
       "    <tr>\n",
       "      <th>0</th>\n",
       "      <td>5403452</td>\n",
       "      <td>2325476523</td>\n",
       "      <td>430.37</td>\n",
       "      <td>0.373584</td>\n",
       "      <td>spec_trace-2_parquet_tpp_fastest_machine_dcs_2</td>\n",
       "    </tr>\n",
       "    <tr>\n",
       "      <th>0</th>\n",
       "      <td>5403452</td>\n",
       "      <td>2325476523</td>\n",
       "      <td>430.37</td>\n",
       "      <td>0.373584</td>\n",
       "      <td>spec_trace-2_parquet_tpp_look_ahead_dcs_2</td>\n",
       "    </tr>\n",
       "    <tr>\n",
       "      <th>0</th>\n",
       "      <td>323753</td>\n",
       "      <td>17110105</td>\n",
       "      <td>52.85</td>\n",
       "      <td>0.045876</td>\n",
       "      <td>workflowhub_epigenomics_dataset-hep_chameleon-...</td>\n",
       "    </tr>\n",
       "    <tr>\n",
       "      <th>0</th>\n",
       "      <td>323753</td>\n",
       "      <td>17110105</td>\n",
       "      <td>52.85</td>\n",
       "      <td>0.045876</td>\n",
       "      <td>workflowhub_epigenomics_dataset-hep_chameleon-...</td>\n",
       "    </tr>\n",
       "    <tr>\n",
       "      <th>0</th>\n",
       "      <td>242303</td>\n",
       "      <td>13447697</td>\n",
       "      <td>55.50</td>\n",
       "      <td>0.048177</td>\n",
       "      <td>workflowhub_epigenomics_dataset-hep_grid5000_s...</td>\n",
       "    </tr>\n",
       "    <tr>\n",
       "      <th>0</th>\n",
       "      <td>242303</td>\n",
       "      <td>13447697</td>\n",
       "      <td>55.50</td>\n",
       "      <td>0.048177</td>\n",
       "      <td>workflowhub_epigenomics_dataset-hep_grid5000_s...</td>\n",
       "    </tr>\n",
       "    <tr>\n",
       "      <th>0</th>\n",
       "      <td>338630</td>\n",
       "      <td>20009940</td>\n",
       "      <td>59.09</td>\n",
       "      <td>0.051294</td>\n",
       "      <td>workflowhub_epigenomics_dataset-ilmn_chameleon...</td>\n",
       "    </tr>\n",
       "    <tr>\n",
       "      <th>0</th>\n",
       "      <td>338630</td>\n",
       "      <td>20009940</td>\n",
       "      <td>59.09</td>\n",
       "      <td>0.051294</td>\n",
       "      <td>workflowhub_epigenomics_dataset-ilmn_chameleon...</td>\n",
       "    </tr>\n",
       "  </tbody>\n",
       "</table>\n",
       "</div>"
      ],
      "text/plain": [
       "   TraceDuration  TotalResourceUsage  AverageCPUUsage  AvgResourceUsage  \\\n",
       "0        5348902          2106293456           393.78          0.341823   \n",
       "0        5348902          2106293456           393.78          0.341823   \n",
       "0        5403452          2325476523           430.37          0.373584   \n",
       "0        5403452          2325476523           430.37          0.373584   \n",
       "0         323753            17110105            52.85          0.045876   \n",
       "0         323753            17110105            52.85          0.045876   \n",
       "0         242303            13447697            55.50          0.048177   \n",
       "0         242303            13447697            55.50          0.048177   \n",
       "0         338630            20009940            59.09          0.051294   \n",
       "0         338630            20009940            59.09          0.051294   \n",
       "\n",
       "                                          trace_name  \n",
       "0     spec_trace-1_parquet_tpp_fastest_machine_dcs_2  \n",
       "0          spec_trace-1_parquet_tpp_look_ahead_dcs_2  \n",
       "0     spec_trace-2_parquet_tpp_fastest_machine_dcs_2  \n",
       "0          spec_trace-2_parquet_tpp_look_ahead_dcs_2  \n",
       "0  workflowhub_epigenomics_dataset-hep_chameleon-...  \n",
       "0  workflowhub_epigenomics_dataset-hep_chameleon-...  \n",
       "0  workflowhub_epigenomics_dataset-hep_grid5000_s...  \n",
       "0  workflowhub_epigenomics_dataset-hep_grid5000_s...  \n",
       "0  workflowhub_epigenomics_dataset-ilmn_chameleon...  \n",
       "0  workflowhub_epigenomics_dataset-ilmn_chameleon...  "
      ]
     },
     "execution_count": 39,
     "metadata": {},
     "output_type": "execute_result"
    }
   ],
   "source": [
    "stats_dc2_df[stats_dc2_df['AvgResourceUsage'] >= 0.03]"
   ]
  },
  {
   "cell_type": "code",
   "execution_count": 6,
   "metadata": {},
   "outputs": [
    {
     "data": {
      "text/html": [
       "<div>\n",
       "<style scoped>\n",
       "    .dataframe tbody tr th:only-of-type {\n",
       "        vertical-align: middle;\n",
       "    }\n",
       "\n",
       "    .dataframe tbody tr th {\n",
       "        vertical-align: top;\n",
       "    }\n",
       "\n",
       "    .dataframe thead th {\n",
       "        text-align: right;\n",
       "    }\n",
       "</style>\n",
       "<table border=\"1\" class=\"dataframe\">\n",
       "  <thead>\n",
       "    <tr style=\"text-align: right;\">\n",
       "      <th></th>\n",
       "      <th>task.id</th>\n",
       "      <th>workflow.id</th>\n",
       "      <th>time.submit</th>\n",
       "      <th>time.ready</th>\n",
       "      <th>time.start</th>\n",
       "      <th>time.minimal.starttime</th>\n",
       "      <th>time.complete</th>\n",
       "      <th>time.runtime.original</th>\n",
       "      <th>time.runtime.actual</th>\n",
       "      <th>energy.consumed</th>\n",
       "      <th>filename</th>\n",
       "    </tr>\n",
       "  </thead>\n",
       "  <tbody>\n",
       "    <tr>\n",
       "      <th>0</th>\n",
       "      <td>0</td>\n",
       "      <td>0</td>\n",
       "      <td>2930096</td>\n",
       "      <td>2930096</td>\n",
       "      <td>2930096</td>\n",
       "      <td>2930096</td>\n",
       "      <td>2950077</td>\n",
       "      <td>13022</td>\n",
       "      <td>19981</td>\n",
       "      <td>0.011114</td>\n",
       "      <td>askalon-new_ee10_parquet_tpp_look_ahead_dcs_1</td>\n",
       "    </tr>\n",
       "    <tr>\n",
       "      <th>1</th>\n",
       "      <td>1</td>\n",
       "      <td>0</td>\n",
       "      <td>2948527</td>\n",
       "      <td>2948527</td>\n",
       "      <td>2948527</td>\n",
       "      <td>2948527</td>\n",
       "      <td>2968398</td>\n",
       "      <td>12950</td>\n",
       "      <td>19871</td>\n",
       "      <td>0.011053</td>\n",
       "      <td>askalon-new_ee10_parquet_tpp_look_ahead_dcs_1</td>\n",
       "    </tr>\n",
       "    <tr>\n",
       "      <th>2</th>\n",
       "      <td>2</td>\n",
       "      <td>0</td>\n",
       "      <td>2989836</td>\n",
       "      <td>2989836</td>\n",
       "      <td>2989836</td>\n",
       "      <td>2989836</td>\n",
       "      <td>2992324</td>\n",
       "      <td>1621</td>\n",
       "      <td>2488</td>\n",
       "      <td>0.001384</td>\n",
       "      <td>askalon-new_ee10_parquet_tpp_look_ahead_dcs_1</td>\n",
       "    </tr>\n",
       "    <tr>\n",
       "      <th>3</th>\n",
       "      <td>3</td>\n",
       "      <td>0</td>\n",
       "      <td>3010600</td>\n",
       "      <td>3010600</td>\n",
       "      <td>3010600</td>\n",
       "      <td>3010600</td>\n",
       "      <td>3012245</td>\n",
       "      <td>1645</td>\n",
       "      <td>1645</td>\n",
       "      <td>0.001606</td>\n",
       "      <td>askalon-new_ee10_parquet_tpp_look_ahead_dcs_1</td>\n",
       "    </tr>\n",
       "    <tr>\n",
       "      <th>4</th>\n",
       "      <td>4</td>\n",
       "      <td>0</td>\n",
       "      <td>2935120</td>\n",
       "      <td>2935120</td>\n",
       "      <td>2935120</td>\n",
       "      <td>2935120</td>\n",
       "      <td>2955072</td>\n",
       "      <td>13003</td>\n",
       "      <td>19952</td>\n",
       "      <td>0.011098</td>\n",
       "      <td>askalon-new_ee10_parquet_tpp_look_ahead_dcs_1</td>\n",
       "    </tr>\n",
       "    <tr>\n",
       "      <th>...</th>\n",
       "      <td>...</td>\n",
       "      <td>...</td>\n",
       "      <td>...</td>\n",
       "      <td>...</td>\n",
       "      <td>...</td>\n",
       "      <td>...</td>\n",
       "      <td>...</td>\n",
       "      <td>...</td>\n",
       "      <td>...</td>\n",
       "      <td>...</td>\n",
       "      <td>...</td>\n",
       "    </tr>\n",
       "    <tr>\n",
       "      <th>747</th>\n",
       "      <td>747</td>\n",
       "      <td>0</td>\n",
       "      <td>0</td>\n",
       "      <td>6004</td>\n",
       "      <td>6004</td>\n",
       "      <td>6004</td>\n",
       "      <td>6261</td>\n",
       "      <td>167</td>\n",
       "      <td>257</td>\n",
       "      <td>0.000143</td>\n",
       "      <td>workflowhub_soykb_grid5000_schema-0-2_soykb-g5...</td>\n",
       "    </tr>\n",
       "    <tr>\n",
       "      <th>748</th>\n",
       "      <td>748</td>\n",
       "      <td>0</td>\n",
       "      <td>0</td>\n",
       "      <td>233632</td>\n",
       "      <td>233632</td>\n",
       "      <td>233632</td>\n",
       "      <td>312080</td>\n",
       "      <td>78448</td>\n",
       "      <td>78448</td>\n",
       "      <td>0.076609</td>\n",
       "      <td>workflowhub_soykb_grid5000_schema-0-2_soykb-g5...</td>\n",
       "    </tr>\n",
       "    <tr>\n",
       "      <th>749</th>\n",
       "      <td>749</td>\n",
       "      <td>0</td>\n",
       "      <td>0</td>\n",
       "      <td>233426</td>\n",
       "      <td>233426</td>\n",
       "      <td>233426</td>\n",
       "      <td>321547</td>\n",
       "      <td>88121</td>\n",
       "      <td>88121</td>\n",
       "      <td>0.086056</td>\n",
       "      <td>workflowhub_soykb_grid5000_schema-0-2_soykb-g5...</td>\n",
       "    </tr>\n",
       "    <tr>\n",
       "      <th>750</th>\n",
       "      <td>750</td>\n",
       "      <td>0</td>\n",
       "      <td>0</td>\n",
       "      <td>67732</td>\n",
       "      <td>67732</td>\n",
       "      <td>67732</td>\n",
       "      <td>200317</td>\n",
       "      <td>132585</td>\n",
       "      <td>132585</td>\n",
       "      <td>0.129478</td>\n",
       "      <td>workflowhub_soykb_grid5000_schema-0-2_soykb-g5...</td>\n",
       "    </tr>\n",
       "    <tr>\n",
       "      <th>751</th>\n",
       "      <td>751</td>\n",
       "      <td>0</td>\n",
       "      <td>0</td>\n",
       "      <td>232538</td>\n",
       "      <td>232538</td>\n",
       "      <td>232538</td>\n",
       "      <td>332363</td>\n",
       "      <td>99825</td>\n",
       "      <td>99825</td>\n",
       "      <td>0.097485</td>\n",
       "      <td>workflowhub_soykb_grid5000_schema-0-2_soykb-g5...</td>\n",
       "    </tr>\n",
       "  </tbody>\n",
       "</table>\n",
       "<p>144953 rows × 11 columns</p>\n",
       "</div>"
      ],
      "text/plain": [
       "     task.id  workflow.id  time.submit  time.ready  time.start  \\\n",
       "0          0            0      2930096     2930096     2930096   \n",
       "1          1            0      2948527     2948527     2948527   \n",
       "2          2            0      2989836     2989836     2989836   \n",
       "3          3            0      3010600     3010600     3010600   \n",
       "4          4            0      2935120     2935120     2935120   \n",
       "..       ...          ...          ...         ...         ...   \n",
       "747      747            0            0        6004        6004   \n",
       "748      748            0            0      233632      233632   \n",
       "749      749            0            0      233426      233426   \n",
       "750      750            0            0       67732       67732   \n",
       "751      751            0            0      232538      232538   \n",
       "\n",
       "     time.minimal.starttime  time.complete  time.runtime.original  \\\n",
       "0                   2930096        2950077                  13022   \n",
       "1                   2948527        2968398                  12950   \n",
       "2                   2989836        2992324                   1621   \n",
       "3                   3010600        3012245                   1645   \n",
       "4                   2935120        2955072                  13003   \n",
       "..                      ...            ...                    ...   \n",
       "747                    6004           6261                    167   \n",
       "748                  233632         312080                  78448   \n",
       "749                  233426         321547                  88121   \n",
       "750                   67732         200317                 132585   \n",
       "751                  232538         332363                  99825   \n",
       "\n",
       "     time.runtime.actual  energy.consumed  \\\n",
       "0                  19981         0.011114   \n",
       "1                  19871         0.011053   \n",
       "2                   2488         0.001384   \n",
       "3                   1645         0.001606   \n",
       "4                  19952         0.011098   \n",
       "..                   ...              ...   \n",
       "747                  257         0.000143   \n",
       "748                78448         0.076609   \n",
       "749                88121         0.086056   \n",
       "750               132585         0.129478   \n",
       "751                99825         0.097485   \n",
       "\n",
       "                                              filename  \n",
       "0        askalon-new_ee10_parquet_tpp_look_ahead_dcs_1  \n",
       "1        askalon-new_ee10_parquet_tpp_look_ahead_dcs_1  \n",
       "2        askalon-new_ee10_parquet_tpp_look_ahead_dcs_1  \n",
       "3        askalon-new_ee10_parquet_tpp_look_ahead_dcs_1  \n",
       "4        askalon-new_ee10_parquet_tpp_look_ahead_dcs_1  \n",
       "..                                                 ...  \n",
       "747  workflowhub_soykb_grid5000_schema-0-2_soykb-g5...  \n",
       "748  workflowhub_soykb_grid5000_schema-0-2_soykb-g5...  \n",
       "749  workflowhub_soykb_grid5000_schema-0-2_soykb-g5...  \n",
       "750  workflowhub_soykb_grid5000_schema-0-2_soykb-g5...  \n",
       "751  workflowhub_soykb_grid5000_schema-0-2_soykb-g5...  \n",
       "\n",
       "[144953 rows x 11 columns]"
      ]
     },
     "execution_count": 6,
     "metadata": {},
     "output_type": "execute_result"
    }
   ],
   "source": [
    "baseline_performance_dc1 = create_dataframe(path_ex1, 'tasks.tsv', '1', 'fastest_machine')\n",
    "lookahead_performance_dc1 = create_dataframe(path_ex1, 'tasks.tsv', '1', 'look_ahead')\n",
    "\n",
    "lookahead_performance_dc1"
   ]
  },
  {
   "attachments": {},
   "cell_type": "markdown",
   "metadata": {},
   "source": [
    "# Validation"
   ]
  },
  {
   "cell_type": "code",
   "execution_count": 23,
   "metadata": {},
   "outputs": [
    {
     "name": "stdout",
     "output_type": "stream",
     "text": [
      "count      88.000000\n",
      "mean      146.787745\n",
      "std       580.970943\n",
      "min         0.408354\n",
      "25%         5.196489\n",
      "50%        10.307123\n",
      "75%        19.359444\n",
      "max      3618.827774\n",
      "Name: energy.consumed, dtype: float64\n"
     ]
    },
    {
     "data": {
      "text/plain": [
       "count      88.000000\n",
       "mean      143.756958\n",
       "std       575.295870\n",
       "min         0.398400\n",
       "25%         4.636420\n",
       "50%         9.066560\n",
       "75%        16.998805\n",
       "max      3592.039911\n",
       "Name: energy.consumed, dtype: float64"
      ]
     },
     "execution_count": 23,
     "metadata": {},
     "output_type": "execute_result"
    }
   ],
   "source": [
    "print(tasks_dc1_fmp_df.groupby('trace_name').sum()['energy.consumed'].describe())\n",
    "tasks_dc1_lah_df.groupby('trace_name').sum()['energy.consumed'].describe()"
   ]
  },
  {
   "cell_type": "code",
   "execution_count": 56,
   "metadata": {},
   "outputs": [
    {
     "name": "stdout",
     "output_type": "stream",
     "text": [
      "-2.0647410489535023 %\n",
      "Baseline:  12917.321543923605\n",
      "Lookahead:  12650.6123035809\n"
     ]
    },
    {
     "data": {
      "image/png": "[encoded data removed]",
      "text/plain": [
       "<Figure size 720x360 with 1 Axes>"
      ]
     },
     "metadata": {
      "needs_background": "light"
     },
     "output_type": "display_data"
    }
   ],
   "source": [
    "bl = tasks_dc1_fmp_df.groupby('trace_name').sum()['energy.consumed'].sum()\n",
    "nl = tasks_dc1_lah_df.groupby('trace_name').sum()['energy.consumed'].sum()\n",
    "\n",
    "difference_percentage = (nl - bl) / bl * 100\n",
    "print(difference_percentage, '%')\n",
    "print('Baseline: ', bl)\n",
    "print('Lookahead: ', nl)\n",
    "\n",
    "# plot the results in a horizontal bar chart with difference percentage\n",
    "fig, ax = plt.subplots(figsize=(10, 5))\n",
    "ax.barh('Baseline\\n(Fastest Machine + DVFS)', bl, color='red')\n",
    "ax.barh('Lookahead + DVFS', nl, color='green')\n",
    "ax.set_title('Task energy consumption for one datacentre')\n",
    "ax.set_xlabel('Energy consumption [kWh]')\n",
    "ax.set_ylabel('Method')\n",
    "# ax.text(bl, 0, str(round(bl, 2)), color='black', fontweight='bold')\n",
    "ax.text(nl, 1, str(round(difference_percentage, 2))+'%', color='black', fontweight='bold')\n",
    "plt.show()\n",
    "\n"
   ]
  },
  {
   "cell_type": "code",
   "execution_count": 58,
   "metadata": {},
   "outputs": [],
   "source": [
    "# workflow_delays[ttp][dvfs_enabled][domain].extend(workflow_df['time.complete'] - workflow_df['time.earliest.complete'])\n",
    "workflows_dc1_fmp_df['workflow_delays'] = workflows_dc1_fmp_df['time.complete'] - workflows_dc1_fmp_df['time.earliest.complete']\n",
    "workflows_dc1_lah_df['workflow_delays'] = workflows_dc1_lah_df['time.complete'] - workflows_dc1_lah_df['time.earliest.complete']"
   ]
  },
  {
   "cell_type": "code",
   "execution_count": 60,
   "metadata": {},
   "outputs": [
    {
     "name": "stdout",
     "output_type": "stream",
     "text": [
      "9.611231464237223 %\n",
      "Baseline:  642484350\n",
      "Lookahead:  704235008\n"
     ]
    },
    {
     "data": {
      "image/png": "[encoded data removed]",
      "text/plain": [
       "<Figure size 720x360 with 1 Axes>"
      ]
     },
     "metadata": {
      "needs_background": "light"
     },
     "output_type": "display_data"
    }
   ],
   "source": [
    "# calculate cumulative workflow delays\n",
    "total_delay_fmp = workflows_dc1_fmp_df['workflow_delays'].sum()\n",
    "total_delay_lah = workflows_dc1_lah_df['workflow_delays'].sum()\n",
    "\n",
    "# calculate the percentage of delay\n",
    "delay_percentage = (total_delay_lah - total_delay_fmp) / total_delay_fmp * 100\n",
    "print(delay_percentage, '%')\n",
    "print('Baseline: ', total_delay_fmp)\n",
    "print('Lookahead: ', total_delay_lah)\n",
    "\n",
    "# plot the results in a horizontal bar chart with difference percentage\n",
    "fig, ax = plt.subplots(figsize=(10, 5))\n",
    "ax.barh('Baseline\\n(Fastest Machine + DVFS)', total_delay_fmp, color='red')\n",
    "ax.barh('Lookahead + DVFS', total_delay_lah, color='green')\n",
    "ax.set_title('Workflow delays for one datacentre')\n",
    "ax.set_xlabel('Delay [s]')\n",
    "ax.set_ylabel('Method')\n",
    "# ax.text(bl, 0, str(round(bl, 2)), color='black', fontweight='bold')\n",
    "ax.text(total_delay_lah, 1, str(round(delay_percentage, 2))+'%', color='black', fontweight='bold')\n",
    "plt.show()\n"
   ]
  },
  {
   "attachments": {},
   "cell_type": "markdown",
   "metadata": {},
   "source": [
    "# Experiment 1"
   ]
  },
  {
   "attachments": {},
   "cell_type": "markdown",
   "metadata": {},
   "source": [
    "**Process**:\n",
    "1. Select from the 1 DC runs:\n",
    "    * a) one representative trace for each target utilization in increments of 10%\n",
    "    * b) one trace with average, shortest and longest running times\n",
    "2. Compute utilization graphs for \n",
    "    * a) fastest machine (fmp)\n",
    "    * b) lookahead (lah) placement policies\n",
    "3. Calculate total energy consumption (including idle consumption) for each trace\n",
    "4. Select the corresponding traces from the 2 DC runs\n",
    "5. Run the DCs in different country configurations and show the results from EESR"
   ]
  },
  {
   "attachments": {},
   "cell_type": "markdown",
   "metadata": {},
   "source": [
    "1. a)"
   ]
  },
  {
   "cell_type": "code",
   "execution_count": 105,
   "metadata": {
    "tags": []
   },
   "outputs": [
    {
     "data": {
      "text/html": [
       "<div>\n",
       "<style scoped>\n",
       "    .dataframe tbody tr th:only-of-type {\n",
       "        vertical-align: middle;\n",
       "    }\n",
       "\n",
       "    .dataframe tbody tr th {\n",
       "        vertical-align: top;\n",
       "    }\n",
       "\n",
       "    .dataframe thead th {\n",
       "        text-align: right;\n",
       "    }\n",
       "</style>\n",
       "<table border=\"1\" class=\"dataframe\">\n",
       "  <thead>\n",
       "    <tr style=\"text-align: right;\">\n",
       "      <th></th>\n",
       "      <th>trace_name</th>\n",
       "      <th>AvgResourceUsage</th>\n",
       "    </tr>\n",
       "  </thead>\n",
       "  <tbody>\n",
       "    <tr>\n",
       "      <th>0</th>\n",
       "      <td>spec_trace-2_parquet_tpp_fastest_machine_dcs_1</td>\n",
       "      <td>0.747168</td>\n",
       "    </tr>\n",
       "    <tr>\n",
       "      <th>0</th>\n",
       "      <td>spec_trace-1_parquet_tpp_fastest_machine_dcs_1</td>\n",
       "      <td>0.683647</td>\n",
       "    </tr>\n",
       "    <tr>\n",
       "      <th>0</th>\n",
       "      <td>workflowhub_epigenomics_dataset-ilmn_chameleon...</td>\n",
       "      <td>0.102588</td>\n",
       "    </tr>\n",
       "    <tr>\n",
       "      <th>0</th>\n",
       "      <td>workflowhub_epigenomics_dataset-hep_grid5000_s...</td>\n",
       "      <td>0.096353</td>\n",
       "    </tr>\n",
       "    <tr>\n",
       "      <th>0</th>\n",
       "      <td>workflowhub_epigenomics_dataset-hep_chameleon-...</td>\n",
       "      <td>0.091752</td>\n",
       "    </tr>\n",
       "    <tr>\n",
       "      <th>0</th>\n",
       "      <td>workflowhub_epigenomics_dataset-hep_futuregrid...</td>\n",
       "      <td>0.048214</td>\n",
       "    </tr>\n",
       "    <tr>\n",
       "      <th>0</th>\n",
       "      <td>Pegasus_P6a_parquet_tpp_fastest_machine_dcs_1</td>\n",
       "      <td>0.048192</td>\n",
       "    </tr>\n",
       "  </tbody>\n",
       "</table>\n",
       "</div>"
      ],
      "text/plain": [
       "                                          trace_name  AvgResourceUsage\n",
       "0     spec_trace-2_parquet_tpp_fastest_machine_dcs_1          0.747168\n",
       "0     spec_trace-1_parquet_tpp_fastest_machine_dcs_1          0.683647\n",
       "0  workflowhub_epigenomics_dataset-ilmn_chameleon...          0.102588\n",
       "0  workflowhub_epigenomics_dataset-hep_grid5000_s...          0.096353\n",
       "0  workflowhub_epigenomics_dataset-hep_chameleon-...          0.091752\n",
       "0  workflowhub_epigenomics_dataset-hep_futuregrid...          0.048214\n",
       "0      Pegasus_P6a_parquet_tpp_fastest_machine_dcs_1          0.048192"
      ]
     },
     "execution_count": 105,
     "metadata": {},
     "output_type": "execute_result"
    }
   ],
   "source": [
    "stats_dc1_df = create_dataframe(path_ex=path_ex1, file_name = 'stats.tsv', dcs='1', tpp='')\n",
    "stats_dc1_fmp_df = create_dataframe(path_ex=path_ex1, file_name = 'stats.tsv', dcs='1', tpp='fastest_machine')\n",
    "utilization_candidates = stats_dc1_fmp_df[stats_dc1_fmp_df['AvgResourceUsage'] > 0.047].sort_values(by=['AvgResourceUsage'], ascending=False)[['trace_name', 'AvgResourceUsage']]\n",
    "utilization_candidates"
   ]
  },
  {
   "attachments": {},
   "cell_type": "markdown",
   "metadata": {},
   "source": [
    "1. b)"
   ]
  },
  {
   "cell_type": "code",
   "execution_count": 134,
   "metadata": {},
   "outputs": [
    {
     "data": {
      "text/plain": [
       "{'max': 'askalon-new_ee68_parquet_tpp_fastest_machine_dcs_1',\n",
       " 'median-high': 'askalon-new_ee65_parquet_tpp_fastest_machine_dcs_1',\n",
       " 'median-low': 'askalon-new_ee69_parquet_tpp_fastest_machine_dcs_1',\n",
       " 'min': 'Pegasus_P8_parquet_tpp_fastest_machine_dcs_1'}"
      ]
     },
     "execution_count": 134,
     "metadata": {},
     "output_type": "execute_result"
    }
   ],
   "source": [
    "duration_stats = stats_dc1_fmp_df['TraceDuration'].describe()\n",
    "\n",
    "max_duration_trace = stats_dc1_fmp_df[stats_dc1_fmp_df['TraceDuration'] == duration_stats['max']].sort_values(by=['AvgResourceUsage'], ascending=False)['trace_name'].values[0]\n",
    "median_high_duration_trace = stats_dc1_fmp_df[stats_dc1_fmp_df['TraceDuration'] <= duration_stats['50%']].sort_values(by=['TraceDuration'], ascending=False)['trace_name'].values[0]\n",
    "median_low_duration_trace = stats_dc1_fmp_df[stats_dc1_fmp_df['TraceDuration'] >= duration_stats['50%']].sort_values(by=['TraceDuration'], ascending=True)['trace_name'].values[0]\n",
    "min_duration_trace = stats_dc1_fmp_df[stats_dc1_fmp_df['TraceDuration'] == duration_stats['min']].sort_values(by=['AvgResourceUsage'], ascending=False)['trace_name'].values[0]\n",
    "\n",
    "duration_candidates = {'max': max_duration_trace, \n",
    "                       'median-high': median_high_duration_trace, \n",
    "                       'median-low': median_low_duration_trace,\n",
    "                       'min': min_duration_trace}\n",
    "duration_candidates"
   ]
  },
  {
   "attachments": {},
   "cell_type": "markdown",
   "metadata": {},
   "source": [
    "2. a)"
   ]
  },
  {
   "cell_type": "code",
   "execution_count": 108,
   "metadata": {},
   "outputs": [
    {
     "data": {
      "text/plain": [
       "count    8.800000e+01\n",
       "mean     5.032061e+07\n",
       "std      2.144422e+08\n",
       "min      1.260320e+05\n",
       "25%      4.880140e+06\n",
       "50%      9.440690e+06\n",
       "75%      2.034142e+07\n",
       "max      1.978356e+09\n",
       "Name: TraceDuration, dtype: float64"
      ]
     },
     "execution_count": 108,
     "metadata": {},
     "output_type": "execute_result"
    }
   ],
   "source": []
  },
  {
   "attachments": {},
   "cell_type": "markdown",
   "metadata": {},
   "source": [
    "# Analysis"
   ]
  },
  {
   "cell_type": "code",
   "execution_count": 51,
   "metadata": {},
   "outputs": [
    {
     "data": {
      "text/plain": [
       "array(['spec_trace-1_parquet_tpp_fastest_machine_dcs_1',\n",
       "       'spec_trace-1_parquet_tpp_look_ahead_dcs_1',\n",
       "       'spec_trace-2_parquet_tpp_fastest_machine_dcs_1',\n",
       "       'spec_trace-2_parquet_tpp_look_ahead_dcs_1',\n",
       "       'workflowhub_epigenomics_dataset-hep_chameleon-cloud_schema-0-2_epigenomics-hep-100000-cc-run005_parquet_tpp_fastest_machine_dcs_1',\n",
       "       'workflowhub_epigenomics_dataset-hep_chameleon-cloud_schema-0-2_epigenomics-hep-100000-cc-run005_parquet_tpp_look_ahead_dcs_1',\n",
       "       'workflowhub_epigenomics_dataset-hep_grid5000_schema-0-2_epigenomics-hep-g5k-run001_parquet_tpp_fastest_machine_dcs_1',\n",
       "       'workflowhub_epigenomics_dataset-hep_grid5000_schema-0-2_epigenomics-hep-g5k-run001_parquet_tpp_look_ahead_dcs_1',\n",
       "       'workflowhub_epigenomics_dataset-ilmn_chameleon-cloud_schema-0-2_epigenomics-ilmn-100000-cc-run004_parquet_tpp_fastest_machine_dcs_1',\n",
       "       'workflowhub_epigenomics_dataset-ilmn_chameleon-cloud_schema-0-2_epigenomics-ilmn-100000-cc-run004_parquet_tpp_look_ahead_dcs_1'],\n",
       "      dtype=object)"
      ]
     },
     "execution_count": 51,
     "metadata": {},
     "output_type": "execute_result"
    }
   ],
   "source": [
    "avg_res_10 = stats_dc1_df[stats_dc1_df['AvgResourceUsage'] >= 0.05].trace_name.values\n",
    "avg_res_10"
   ]
  },
  {
   "cell_type": "code",
   "execution_count": 6,
   "metadata": {},
   "outputs": [
    {
     "data": {
      "text/html": [
       "<div>\n",
       "<style scoped>\n",
       "    .dataframe tbody tr th:only-of-type {\n",
       "        vertical-align: middle;\n",
       "    }\n",
       "\n",
       "    .dataframe tbody tr th {\n",
       "        vertical-align: top;\n",
       "    }\n",
       "\n",
       "    .dataframe thead th {\n",
       "        text-align: right;\n",
       "    }\n",
       "</style>\n",
       "<table border=\"1\" class=\"dataframe\">\n",
       "  <thead>\n",
       "    <tr style=\"text-align: right;\">\n",
       "      <th></th>\n",
       "      <th>timestamp</th>\n",
       "      <th>host_id</th>\n",
       "      <th>it_power_total</th>\n",
       "      <th>trace_name</th>\n",
       "    </tr>\n",
       "  </thead>\n",
       "  <tbody>\n",
       "    <tr>\n",
       "      <th>0</th>\n",
       "      <td>2930096</td>\n",
       "      <td>0-0</td>\n",
       "      <td>810000.0000</td>\n",
       "      <td>askalon-new_ee10_parquet_tpp_fastest_machine_d...</td>\n",
       "    </tr>\n",
       "    <tr>\n",
       "      <th>0</th>\n",
       "      <td>2930096</td>\n",
       "      <td>0-0</td>\n",
       "      <td>810000.0000</td>\n",
       "      <td>askalon-new_ee10_parquet_tpp_fastest_machine_d...</td>\n",
       "    </tr>\n",
       "    <tr>\n",
       "      <th>1</th>\n",
       "      <td>2930096</td>\n",
       "      <td>1-1</td>\n",
       "      <td>810000.0000</td>\n",
       "      <td>askalon-new_ee10_parquet_tpp_fastest_machine_d...</td>\n",
       "    </tr>\n",
       "    <tr>\n",
       "      <th>0</th>\n",
       "      <td>2930096</td>\n",
       "      <td>0-0</td>\n",
       "      <td>707940.0000</td>\n",
       "      <td>askalon-new_ee10_parquet_tpp_look_ahead_dcs_1</td>\n",
       "    </tr>\n",
       "    <tr>\n",
       "      <th>0</th>\n",
       "      <td>2930096</td>\n",
       "      <td>0-0</td>\n",
       "      <td>707940.0000</td>\n",
       "      <td>askalon-new_ee10_parquet_tpp_look_ahead_dcs_2</td>\n",
       "    </tr>\n",
       "    <tr>\n",
       "      <th>...</th>\n",
       "      <td>...</td>\n",
       "      <td>...</td>\n",
       "      <td>...</td>\n",
       "      <td>...</td>\n",
       "    </tr>\n",
       "    <tr>\n",
       "      <th>101</th>\n",
       "      <td>45000000</td>\n",
       "      <td>1-1</td>\n",
       "      <td>810000.0000</td>\n",
       "      <td>workflowhub_soykb_grid5000_schema-0-2_soykb-g5...</td>\n",
       "    </tr>\n",
       "    <tr>\n",
       "      <th>102</th>\n",
       "      <td>45900000</td>\n",
       "      <td>0-0</td>\n",
       "      <td>714085.3125</td>\n",
       "      <td>workflowhub_soykb_grid5000_schema-0-2_soykb-g5...</td>\n",
       "    </tr>\n",
       "    <tr>\n",
       "      <th>103</th>\n",
       "      <td>45900000</td>\n",
       "      <td>1-1</td>\n",
       "      <td>810000.0000</td>\n",
       "      <td>workflowhub_soykb_grid5000_schema-0-2_soykb-g5...</td>\n",
       "    </tr>\n",
       "    <tr>\n",
       "      <th>104</th>\n",
       "      <td>46800000</td>\n",
       "      <td>0-0</td>\n",
       "      <td>714085.3125</td>\n",
       "      <td>workflowhub_soykb_grid5000_schema-0-2_soykb-g5...</td>\n",
       "    </tr>\n",
       "    <tr>\n",
       "      <th>105</th>\n",
       "      <td>46800000</td>\n",
       "      <td>1-1</td>\n",
       "      <td>810000.0000</td>\n",
       "      <td>workflowhub_soykb_grid5000_schema-0-2_soykb-g5...</td>\n",
       "    </tr>\n",
       "  </tbody>\n",
       "</table>\n",
       "<p>20480 rows × 4 columns</p>\n",
       "</div>"
      ],
      "text/plain": [
       "     timestamp host_id  it_power_total  \\\n",
       "0      2930096     0-0     810000.0000   \n",
       "0      2930096     0-0     810000.0000   \n",
       "1      2930096     1-1     810000.0000   \n",
       "0      2930096     0-0     707940.0000   \n",
       "0      2930096     0-0     707940.0000   \n",
       "..         ...     ...             ...   \n",
       "101   45000000     1-1     810000.0000   \n",
       "102   45900000     0-0     714085.3125   \n",
       "103   45900000     1-1     810000.0000   \n",
       "104   46800000     0-0     714085.3125   \n",
       "105   46800000     1-1     810000.0000   \n",
       "\n",
       "                                            trace_name  \n",
       "0    askalon-new_ee10_parquet_tpp_fastest_machine_d...  \n",
       "0    askalon-new_ee10_parquet_tpp_fastest_machine_d...  \n",
       "1    askalon-new_ee10_parquet_tpp_fastest_machine_d...  \n",
       "0        askalon-new_ee10_parquet_tpp_look_ahead_dcs_1  \n",
       "0        askalon-new_ee10_parquet_tpp_look_ahead_dcs_2  \n",
       "..                                                 ...  \n",
       "101  workflowhub_soykb_grid5000_schema-0-2_soykb-g5...  \n",
       "102  workflowhub_soykb_grid5000_schema-0-2_soykb-g5...  \n",
       "103  workflowhub_soykb_grid5000_schema-0-2_soykb-g5...  \n",
       "104  workflowhub_soykb_grid5000_schema-0-2_soykb-g5...  \n",
       "105  workflowhub_soykb_grid5000_schema-0-2_soykb-g5...  \n",
       "\n",
       "[20480 rows x 4 columns]"
      ]
     },
     "execution_count": 6,
     "metadata": {},
     "output_type": "execute_result"
    }
   ],
   "source": [
    "wawa = create_dataframe(path_ex1, 'environment.csv')\n",
    "wawa"
   ]
  },
  {
   "cell_type": "code",
   "execution_count": 65,
   "metadata": {},
   "outputs": [
    {
     "data": {
      "text/html": [
       "<div>\n",
       "<style scoped>\n",
       "    .dataframe tbody tr th:only-of-type {\n",
       "        vertical-align: middle;\n",
       "    }\n",
       "\n",
       "    .dataframe tbody tr th {\n",
       "        vertical-align: top;\n",
       "    }\n",
       "\n",
       "    .dataframe thead th {\n",
       "        text-align: right;\n",
       "    }\n",
       "</style>\n",
       "<table border=\"1\" class=\"dataframe\">\n",
       "  <thead>\n",
       "    <tr style=\"text-align: right;\">\n",
       "      <th></th>\n",
       "      <th>timestamp</th>\n",
       "      <th>host_id</th>\n",
       "      <th>it_power_total</th>\n",
       "      <th>trace_name</th>\n",
       "    </tr>\n",
       "  </thead>\n",
       "  <tbody>\n",
       "    <tr>\n",
       "      <th>0</th>\n",
       "      <td>0</td>\n",
       "      <td>0-0</td>\n",
       "      <td>810000.0</td>\n",
       "      <td>workflowhub_epigenomics_dataset-hep_grid5000_s...</td>\n",
       "    </tr>\n",
       "  </tbody>\n",
       "</table>\n",
       "</div>"
      ],
      "text/plain": [
       "   timestamp host_id  it_power_total  \\\n",
       "0          0     0-0        810000.0   \n",
       "\n",
       "                                          trace_name  \n",
       "0  workflowhub_epigenomics_dataset-hep_grid5000_s...  "
      ]
     },
     "execution_count": 65,
     "metadata": {},
     "output_type": "execute_result"
    }
   ],
   "source": [
    "wawa[wawa['trace_name'] == 'workflowhub_epigenomics_dataset-hep_grid5000_schema-0-2_epigenomics-hep-g5k-run001_parquet_tpp_fastest_machine_dcs_1']\n",
    "# wawa[wawa['trace_name'] == 'spec_trace-1_parquet_tpp_look_ahead_dcs_1'].plot(x='timestamp', y='it_power_total')\n",
    "\n",
    "# line1 = plt.plot([1, 3, 5, 2, 5, 3, 1], c='red', lw=5)\n",
    "# line2 = plt.plot([7, 2, 5, 7, 5, 2, 7], c='green', lw=5)\n",
    "# plt.show()\n",
    "\n",
    "# plt.plot(wawa[wawa['trace_name'] == 'spec_trace-1_parquet_tpp_fastest_machine_dcs_1'].timestamp, wawa[wawa['trace_name'] == 'spec_trace-1_parquet_tpp_fastest_machine_dcs_1'].it_power_total, c='red', alpha=0.5)\n",
    "# plt.plot(wawa[wawa['trace_name'] == 'spec_trace-1_parquet_tpp_look_ahead_dcs_1'].timestamp, wawa[wawa['trace_name'] == 'spec_trace-1_parquet_tpp_look_ahead_dcs_1'].it_power_total, c='blue', alpha=0.5)\n",
    "# plt.show()"
   ]
  },
  {
   "cell_type": "code",
   "execution_count": 63,
   "metadata": {},
   "outputs": [
    {
     "name": "stdout",
     "output_type": "stream",
     "text": [
      "spec_trace-1_parquet_tpp_fastest_machine_dcs_1\n",
      "spec_trace-1_parquet_tpp_look_ahead_dcs_1\n"
     ]
    },
    {
     "data": {
      "image/png": "[encoded data removed]",
      "text/plain": [
       "<Figure size 432x288 with 1 Axes>"
      ]
     },
     "metadata": {
      "needs_background": "light"
     },
     "output_type": "display_data"
    },
    {
     "name": "stdout",
     "output_type": "stream",
     "text": [
      "spec_trace-2_parquet_tpp_fastest_machine_dcs_1\n",
      "spec_trace-2_parquet_tpp_look_ahead_dcs_1\n"
     ]
    },
    {
     "data": {
      "image/png": "[encoded data removed]",
      "text/plain": [
       "<Figure size 432x288 with 1 Axes>"
      ]
     },
     "metadata": {
      "needs_background": "light"
     },
     "output_type": "display_data"
    },
    {
     "name": "stdout",
     "output_type": "stream",
     "text": [
      "workflowhub_epigenomics_dataset-hep_chameleon-cloud_schema-0-2_epigenomics-hep-100000-cc-run005_parquet_tpp_fastest_machine_dcs_1\n",
      "workflowhub_epigenomics_dataset-hep_chameleon-cloud_schema-0-2_epigenomics-hep-100000-cc-run005_parquet_tpp_look_ahead_dcs_1\n"
     ]
    },
    {
     "data": {
      "image/png": "[encoded data removed]",
      "text/plain": [
       "<Figure size 432x288 with 1 Axes>"
      ]
     },
     "metadata": {
      "needs_background": "light"
     },
     "output_type": "display_data"
    },
    {
     "name": "stdout",
     "output_type": "stream",
     "text": [
      "workflowhub_epigenomics_dataset-hep_grid5000_schema-0-2_epigenomics-hep-g5k-run001_parquet_tpp_fastest_machine_dcs_1\n",
      "workflowhub_epigenomics_dataset-hep_grid5000_schema-0-2_epigenomics-hep-g5k-run001_parquet_tpp_look_ahead_dcs_1\n"
     ]
    },
    {
     "data": {
      "image/png": "[encoded data removed]",
      "text/plain": [
       "<Figure size 432x288 with 1 Axes>"
      ]
     },
     "metadata": {
      "needs_background": "light"
     },
     "output_type": "display_data"
    },
    {
     "name": "stdout",
     "output_type": "stream",
     "text": [
      "workflowhub_epigenomics_dataset-ilmn_chameleon-cloud_schema-0-2_epigenomics-ilmn-100000-cc-run004_parquet_tpp_fastest_machine_dcs_1\n",
      "workflowhub_epigenomics_dataset-ilmn_chameleon-cloud_schema-0-2_epigenomics-ilmn-100000-cc-run004_parquet_tpp_look_ahead_dcs_1\n"
     ]
    },
    {
     "data": {
      "image/png": "[encoded data removed]",
      "text/plain": [
       "<Figure size 432x288 with 1 Axes>"
      ]
     },
     "metadata": {
      "needs_background": "light"
     },
     "output_type": "display_data"
    }
   ],
   "source": [
    "for i in range(0, len(avg_res_10)):\n",
    "    if i % 2 == 1: continue\n",
    "    plt.plot(wawa[wawa['trace_name'] == avg_res_10[i]].timestamp, wawa[wawa['trace_name'] == avg_res_10[i]].it_power_total, alpha=0.5, c='red')\n",
    "    i += 1\n",
    "    plt.plot(wawa[wawa['trace_name'] == avg_res_10[i]].timestamp, wawa[wawa['trace_name'] == avg_res_10[i]].it_power_total, alpha=0.5, c='blue')\n",
    "    plt.show()"
   ]
  }
 ],
 "metadata": {
  "kernelspec": {
   "display_name": "Python 3.10.8 64-bit",
   "language": "python",
   "name": "python3"
  },
  "language_info": {
   "codemirror_mode": {
    "name": "ipython",
    "version": 3
   },
   "file_extension": ".py",
   "mimetype": "text/x-python",
   "name": "python",
   "nbconvert_exporter": "python",
   "pygments_lexer": "ipython3",
   "version": "3.10.8"
  },
  "vscode": {
   "interpreter": {
    "hash": "376b25519dc368194a2df36897d97ac347cf957993780f20c077df31a3dcc548"
   }
  }
 },
 "nbformat": 4,
 "nbformat_minor": 1
}
