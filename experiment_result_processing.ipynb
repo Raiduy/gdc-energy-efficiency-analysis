{
 "cells": [
  {
   "cell_type": "markdown",
   "source": [
    "Imports"
   ],
   "metadata": {
    "collapsed": false,
    "pycharm": {
     "name": "#%% md\n"
    }
   }
  },
  {
   "cell_type": "code",
   "execution_count": 3,
   "outputs": [],
   "source": [
    "import os\n",
    "import numpy as np\n",
    "import pandas as pd\n",
    "import seaborn as sns\n",
    "import matplotlib.pyplot as plt"
   ],
   "metadata": {
    "collapsed": false,
    "pycharm": {
     "name": "#%%\n"
    }
   }
  },
  {
   "cell_type": "markdown",
   "source": [
    "Experiment paths"
   ],
   "metadata": {
    "collapsed": false,
    "pycharm": {
     "name": "#%% md\n"
    }
   }
  },
  {
   "cell_type": "code",
   "execution_count": 10,
   "outputs": [],
   "source": [
    "path_ex1 = '../EX_1'\n",
    "path_ex2 = '../EX_2'"
   ],
   "metadata": {
    "collapsed": false,
    "pycharm": {
     "name": "#%%\n"
    }
   }
  },
  {
   "cell_type": "markdown",
   "source": [
    "# Functions"
   ],
   "metadata": {
    "collapsed": false
   }
  },
  {
   "cell_type": "code",
   "execution_count": 17,
   "outputs": [],
   "source": [
    "def create_dataframe(path_ex, file_name, dcs, tpp):\n",
    "    select_dcs = \"dcs_\" + dcs\n",
    "    select_tpp = \"tpp_\" + tpp\n",
    "    df = pd.DataFrame()\n",
    "    for folder in next(os.walk(path_ex))[1]:\n",
    "        if (select_dcs in folder) & (select_tpp in folder):\n",
    "            file_path = os.path.join(path_ex, folder, file_name)\n",
    "            data = pd.read_csv(file_path, delimiter='\\t')\n",
    "            data['filename'] = folder\n",
    "            df = pd.concat([df, data])\n",
    "\n",
    "    return df"
   ],
   "metadata": {
    "collapsed": false,
    "pycharm": {
     "name": "#%%\n"
    }
   }
  },
  {
   "cell_type": "code",
   "execution_count": 18,
   "outputs": [
    {
     "data": {
      "text/plain": "   TraceDuration  TotalResourceUsage  AverageCPUUsage  AvgResourceUsage  \\\n0        5348902          2106293456           393.78          0.683647   \n0        5348902          2106293456           393.78          0.683647   \n0        5403452          2325476523           430.37          0.747168   \n0        5403452          2325476523           430.37          0.747168   \n\n                                         filename  \n0  spec_trace-1_parquet_tpp_fastest_machine_dcs_1  \n0       spec_trace-1_parquet_tpp_look_ahead_dcs_1  \n0  spec_trace-2_parquet_tpp_fastest_machine_dcs_1  \n0       spec_trace-2_parquet_tpp_look_ahead_dcs_1  ",
      "text/html": "<div>\n<style scoped>\n    .dataframe tbody tr th:only-of-type {\n        vertical-align: middle;\n    }\n\n    .dataframe tbody tr th {\n        vertical-align: top;\n    }\n\n    .dataframe thead th {\n        text-align: right;\n    }\n</style>\n<table border=\"1\" class=\"dataframe\">\n  <thead>\n    <tr style=\"text-align: right;\">\n      <th></th>\n      <th>TraceDuration</th>\n      <th>TotalResourceUsage</th>\n      <th>AverageCPUUsage</th>\n      <th>AvgResourceUsage</th>\n      <th>filename</th>\n    </tr>\n  </thead>\n  <tbody>\n    <tr>\n      <th>0</th>\n      <td>5348902</td>\n      <td>2106293456</td>\n      <td>393.78</td>\n      <td>0.683647</td>\n      <td>spec_trace-1_parquet_tpp_fastest_machine_dcs_1</td>\n    </tr>\n    <tr>\n      <th>0</th>\n      <td>5348902</td>\n      <td>2106293456</td>\n      <td>393.78</td>\n      <td>0.683647</td>\n      <td>spec_trace-1_parquet_tpp_look_ahead_dcs_1</td>\n    </tr>\n    <tr>\n      <th>0</th>\n      <td>5403452</td>\n      <td>2325476523</td>\n      <td>430.37</td>\n      <td>0.747168</td>\n      <td>spec_trace-2_parquet_tpp_fastest_machine_dcs_1</td>\n    </tr>\n    <tr>\n      <th>0</th>\n      <td>5403452</td>\n      <td>2325476523</td>\n      <td>430.37</td>\n      <td>0.747168</td>\n      <td>spec_trace-2_parquet_tpp_look_ahead_dcs_1</td>\n    </tr>\n  </tbody>\n</table>\n</div>"
     },
     "execution_count": 18,
     "metadata": {},
     "output_type": "execute_result"
    }
   ],
   "source": [
    "stats_df = create_dataframe(path_ex=path_ex1, file_name = 'stats.tsv', dcs='1', tpp='')\n",
    "stats_df[stats_df['AvgResourceUsage'] >= 0.5]"
   ],
   "metadata": {
    "collapsed": false,
    "pycharm": {
     "name": "#%%\n"
    }
   }
  },
  {
   "cell_type": "code",
   "execution_count": 12,
   "metadata": {
    "collapsed": true
   },
   "outputs": [
    {
     "data": {
      "text/plain": "0    askalon-new_ee10_parquet_tpp_fastest_machine_d...\n0        askalon-new_ee10_parquet_tpp_look_ahead_dcs_1\n0    askalon-new_ee11_parquet_tpp_fastest_machine_d...\n0        askalon-new_ee11_parquet_tpp_look_ahead_dcs_1\n0    askalon-new_ee12_parquet_tpp_fastest_machine_d...\n                           ...                        \n0    workflowhub_montage_ti01-971107n_degree-2-0_os...\n0    workflowhub_montage_ti01-971107n_degree-4-0_os...\n0    workflowhub_montage_ti01-971107n_degree-4-0_os...\n0    workflowhub_soykb_grid5000_schema-0-2_soykb-g5...\n0    workflowhub_soykb_grid5000_schema-0-2_soykb-g5...\nName: filename, Length: 176, dtype: object"
     },
     "execution_count": 12,
     "metadata": {},
     "output_type": "execute_result"
    }
   ],
   "source": []
  }
 ],
 "metadata": {
  "kernelspec": {
   "display_name": "Python 3",
   "language": "python",
   "name": "python3"
  },
  "language_info": {
   "codemirror_mode": {
    "name": "ipython",
    "version": 2
   },
   "file_extension": ".py",
   "mimetype": "text/x-python",
   "name": "python",
   "nbconvert_exporter": "python",
   "pygments_lexer": "ipython2",
   "version": "2.7.6"
  }
 },
 "nbformat": 4,
 "nbformat_minor": 0
}