{
 "cells": [
  {
   "cell_type": "markdown",
   "metadata": {
    "pycharm": {
     "name": "#%% md\n"
    }
   },
   "source": [
    "Imports"
   ]
  },
  {
   "cell_type": "code",
   "execution_count": null,
   "metadata": {
    "pycharm": {
     "name": "#%%\n"
    }
   },
   "outputs": [
    {
     "name": "stdout",
     "output_type": "stream",
     "text": [
      "Collecting numpy\n",
      "  Using cached numpy-1.23.4-cp310-cp310-win_amd64.whl (14.6 MB)\n",
      "Installing collected packages: numpy\n",
      "Successfully installed numpy-1.23.4\n",
      "Note: you may need to restart the kernel to use updated packages.\n",
      "^C\n",
      "Note: you may need to restart the kernel to use updated packages.\n"
     ]
    }
   ],
   "source": [
    "%pip install numpy\n",
    "%pip install opendc-eesr\n",
    "%pip install matplotlib\n",
    "%pip install seaborn\n",
    "%pip install pandas"
   ]
  },
  {
   "cell_type": "code",
   "execution_count": null,
   "metadata": {
    "pycharm": {
     "name": "#%%\n"
    }
   },
   "outputs": [],
   "source": [
    "import os\n",
    "import numpy as np\n",
    "import pandas as pd\n",
    "import seaborn as sns\n",
    "import matplotlib.pyplot as plt\n",
    "import eesr"
   ]
  },
  {
   "cell_type": "markdown",
   "metadata": {
    "pycharm": {
     "name": "#%% md\n"
    }
   },
   "source": [
    "Experiment paths"
   ]
  },
  {
   "cell_type": "code",
   "execution_count": 2,
   "metadata": {
    "pycharm": {
     "name": "#%%\n"
    }
   },
   "outputs": [],
   "source": [
    "path_ex1 = '../EX_1'\n",
    "path_ex2 = '../EX_2'"
   ]
  },
  {
   "cell_type": "markdown",
   "metadata": {},
   "source": [
    "# Functions"
   ]
  },
  {
   "cell_type": "code",
   "execution_count": 3,
   "metadata": {
    "pycharm": {
     "name": "#%%\n"
    }
   },
   "outputs": [],
   "source": [
    "def create_dataframe(path_ex, file_name, dcs, tpp):\n",
    "    select_dcs = \"dcs_\" + dcs\n",
    "    select_tpp = \"tpp_\" + tpp\n",
    "    df = pd.DataFrame()\n",
    "    for folder in next(os.walk(path_ex))[1]:\n",
    "        if (select_dcs in folder) & (select_tpp in folder):\n",
    "            file_path = os.path.join(path_ex, folder, file_name)\n",
    "            data = pd.read_csv(file_path, delimiter='\\t')\n",
    "            data['filename'] = folder\n",
    "            df = pd.concat([df, data])\n",
    "\n",
    "    return df"
   ]
  },
  {
   "cell_type": "code",
   "execution_count": 6,
   "metadata": {
    "pycharm": {
     "name": "#%%\n"
    }
   },
   "outputs": [
    {
     "data": {
      "text/html": [
       "<div>\n",
       "<style scoped>\n",
       "    .dataframe tbody tr th:only-of-type {\n",
       "        vertical-align: middle;\n",
       "    }\n",
       "\n",
       "    .dataframe tbody tr th {\n",
       "        vertical-align: top;\n",
       "    }\n",
       "\n",
       "    .dataframe thead th {\n",
       "        text-align: right;\n",
       "    }\n",
       "</style>\n",
       "<table border=\"1\" class=\"dataframe\">\n",
       "  <thead>\n",
       "    <tr style=\"text-align: right;\">\n",
       "      <th></th>\n",
       "      <th>TraceDuration</th>\n",
       "      <th>TotalResourceUsage</th>\n",
       "      <th>AverageCPUUsage</th>\n",
       "      <th>AvgResourceUsage</th>\n",
       "      <th>filename</th>\n",
       "    </tr>\n",
       "  </thead>\n",
       "  <tbody>\n",
       "    <tr>\n",
       "      <th>0</th>\n",
       "      <td>5348902</td>\n",
       "      <td>2106293456</td>\n",
       "      <td>393.78</td>\n",
       "      <td>0.683647</td>\n",
       "      <td>spec_trace-1_parquet_tpp_fastest_machine_dcs_1</td>\n",
       "    </tr>\n",
       "    <tr>\n",
       "      <th>0</th>\n",
       "      <td>5348902</td>\n",
       "      <td>2106293456</td>\n",
       "      <td>393.78</td>\n",
       "      <td>0.683647</td>\n",
       "      <td>spec_trace-1_parquet_tpp_look_ahead_dcs_1</td>\n",
       "    </tr>\n",
       "    <tr>\n",
       "      <th>0</th>\n",
       "      <td>5403452</td>\n",
       "      <td>2325476523</td>\n",
       "      <td>430.37</td>\n",
       "      <td>0.747168</td>\n",
       "      <td>spec_trace-2_parquet_tpp_fastest_machine_dcs_1</td>\n",
       "    </tr>\n",
       "    <tr>\n",
       "      <th>0</th>\n",
       "      <td>5403452</td>\n",
       "      <td>2325476523</td>\n",
       "      <td>430.37</td>\n",
       "      <td>0.747168</td>\n",
       "      <td>spec_trace-2_parquet_tpp_look_ahead_dcs_1</td>\n",
       "    </tr>\n",
       "  </tbody>\n",
       "</table>\n",
       "</div>"
      ],
      "text/plain": [
       "   TraceDuration  TotalResourceUsage  AverageCPUUsage  AvgResourceUsage  \\\n",
       "0        5348902          2106293456           393.78          0.683647   \n",
       "0        5348902          2106293456           393.78          0.683647   \n",
       "0        5403452          2325476523           430.37          0.747168   \n",
       "0        5403452          2325476523           430.37          0.747168   \n",
       "\n",
       "                                         filename  \n",
       "0  spec_trace-1_parquet_tpp_fastest_machine_dcs_1  \n",
       "0       spec_trace-1_parquet_tpp_look_ahead_dcs_1  \n",
       "0  spec_trace-2_parquet_tpp_fastest_machine_dcs_1  \n",
       "0       spec_trace-2_parquet_tpp_look_ahead_dcs_1  "
      ]
     },
     "execution_count": 6,
     "metadata": {},
     "output_type": "execute_result"
    }
   ],
   "source": [
    "stats_df = create_dataframe(path_ex=path_ex1, file_name = 'stats.tsv', dcs='1', tpp='')\n",
    "stats_df[stats_df['AvgResourceUsage'] >= 0.5]"
   ]
  },
  {
   "cell_type": "code",
   "execution_count": 7,
   "metadata": {
    "collapsed": true
   },
   "outputs": [
    {
     "data": {
      "text/html": [
       "<div>\n",
       "<style scoped>\n",
       "    .dataframe tbody tr th:only-of-type {\n",
       "        vertical-align: middle;\n",
       "    }\n",
       "\n",
       "    .dataframe tbody tr th {\n",
       "        vertical-align: top;\n",
       "    }\n",
       "\n",
       "    .dataframe thead th {\n",
       "        text-align: right;\n",
       "    }\n",
       "</style>\n",
       "<table border=\"1\" class=\"dataframe\">\n",
       "  <thead>\n",
       "    <tr style=\"text-align: right;\">\n",
       "      <th></th>\n",
       "      <th>task.id</th>\n",
       "      <th>workflow.id</th>\n",
       "      <th>time.submit</th>\n",
       "      <th>time.ready</th>\n",
       "      <th>time.start</th>\n",
       "      <th>time.minimal.starttime</th>\n",
       "      <th>time.complete</th>\n",
       "      <th>time.runtime.original</th>\n",
       "      <th>time.runtime.actual</th>\n",
       "      <th>energy.consumed</th>\n",
       "      <th>filename</th>\n",
       "    </tr>\n",
       "  </thead>\n",
       "  <tbody>\n",
       "    <tr>\n",
       "      <th>0</th>\n",
       "      <td>0</td>\n",
       "      <td>0</td>\n",
       "      <td>2930096</td>\n",
       "      <td>2930096</td>\n",
       "      <td>2930096</td>\n",
       "      <td>2930096</td>\n",
       "      <td>2950077</td>\n",
       "      <td>13022</td>\n",
       "      <td>19981</td>\n",
       "      <td>0.013831</td>\n",
       "      <td>askalon-new_ee10_parquet_tpp_look_ahead_dcs_1</td>\n",
       "    </tr>\n",
       "    <tr>\n",
       "      <th>1</th>\n",
       "      <td>1</td>\n",
       "      <td>0</td>\n",
       "      <td>2948527</td>\n",
       "      <td>2948527</td>\n",
       "      <td>2948527</td>\n",
       "      <td>2948527</td>\n",
       "      <td>2968398</td>\n",
       "      <td>12950</td>\n",
       "      <td>19871</td>\n",
       "      <td>0.013755</td>\n",
       "      <td>askalon-new_ee10_parquet_tpp_look_ahead_dcs_1</td>\n",
       "    </tr>\n",
       "    <tr>\n",
       "      <th>2</th>\n",
       "      <td>2</td>\n",
       "      <td>0</td>\n",
       "      <td>2989836</td>\n",
       "      <td>2989836</td>\n",
       "      <td>2989836</td>\n",
       "      <td>2989836</td>\n",
       "      <td>2992324</td>\n",
       "      <td>1621</td>\n",
       "      <td>2488</td>\n",
       "      <td>0.001722</td>\n",
       "      <td>askalon-new_ee10_parquet_tpp_look_ahead_dcs_1</td>\n",
       "    </tr>\n",
       "    <tr>\n",
       "      <th>3</th>\n",
       "      <td>3</td>\n",
       "      <td>0</td>\n",
       "      <td>3010600</td>\n",
       "      <td>3010600</td>\n",
       "      <td>3010600</td>\n",
       "      <td>3010600</td>\n",
       "      <td>3012245</td>\n",
       "      <td>1645</td>\n",
       "      <td>1645</td>\n",
       "      <td>0.001999</td>\n",
       "      <td>askalon-new_ee10_parquet_tpp_look_ahead_dcs_1</td>\n",
       "    </tr>\n",
       "    <tr>\n",
       "      <th>4</th>\n",
       "      <td>4</td>\n",
       "      <td>0</td>\n",
       "      <td>2935120</td>\n",
       "      <td>2935120</td>\n",
       "      <td>2935120</td>\n",
       "      <td>2935120</td>\n",
       "      <td>2955072</td>\n",
       "      <td>13003</td>\n",
       "      <td>19952</td>\n",
       "      <td>0.013811</td>\n",
       "      <td>askalon-new_ee10_parquet_tpp_look_ahead_dcs_1</td>\n",
       "    </tr>\n",
       "    <tr>\n",
       "      <th>...</th>\n",
       "      <td>...</td>\n",
       "      <td>...</td>\n",
       "      <td>...</td>\n",
       "      <td>...</td>\n",
       "      <td>...</td>\n",
       "      <td>...</td>\n",
       "      <td>...</td>\n",
       "      <td>...</td>\n",
       "      <td>...</td>\n",
       "      <td>...</td>\n",
       "      <td>...</td>\n",
       "    </tr>\n",
       "    <tr>\n",
       "      <th>747</th>\n",
       "      <td>747</td>\n",
       "      <td>0</td>\n",
       "      <td>0</td>\n",
       "      <td>6004</td>\n",
       "      <td>6004</td>\n",
       "      <td>6004</td>\n",
       "      <td>6261</td>\n",
       "      <td>167</td>\n",
       "      <td>257</td>\n",
       "      <td>0.000177</td>\n",
       "      <td>workflowhub_soykb_grid5000_schema-0-2_soykb-g5...</td>\n",
       "    </tr>\n",
       "    <tr>\n",
       "      <th>748</th>\n",
       "      <td>748</td>\n",
       "      <td>0</td>\n",
       "      <td>0</td>\n",
       "      <td>233632</td>\n",
       "      <td>233632</td>\n",
       "      <td>233632</td>\n",
       "      <td>312080</td>\n",
       "      <td>78448</td>\n",
       "      <td>78448</td>\n",
       "      <td>0.095336</td>\n",
       "      <td>workflowhub_soykb_grid5000_schema-0-2_soykb-g5...</td>\n",
       "    </tr>\n",
       "    <tr>\n",
       "      <th>749</th>\n",
       "      <td>749</td>\n",
       "      <td>0</td>\n",
       "      <td>0</td>\n",
       "      <td>233426</td>\n",
       "      <td>233426</td>\n",
       "      <td>233426</td>\n",
       "      <td>321547</td>\n",
       "      <td>88121</td>\n",
       "      <td>88121</td>\n",
       "      <td>0.107091</td>\n",
       "      <td>workflowhub_soykb_grid5000_schema-0-2_soykb-g5...</td>\n",
       "    </tr>\n",
       "    <tr>\n",
       "      <th>750</th>\n",
       "      <td>750</td>\n",
       "      <td>0</td>\n",
       "      <td>0</td>\n",
       "      <td>67732</td>\n",
       "      <td>67732</td>\n",
       "      <td>67732</td>\n",
       "      <td>200317</td>\n",
       "      <td>132585</td>\n",
       "      <td>132585</td>\n",
       "      <td>0.161128</td>\n",
       "      <td>workflowhub_soykb_grid5000_schema-0-2_soykb-g5...</td>\n",
       "    </tr>\n",
       "    <tr>\n",
       "      <th>751</th>\n",
       "      <td>751</td>\n",
       "      <td>0</td>\n",
       "      <td>0</td>\n",
       "      <td>232538</td>\n",
       "      <td>232538</td>\n",
       "      <td>232538</td>\n",
       "      <td>332363</td>\n",
       "      <td>99825</td>\n",
       "      <td>99825</td>\n",
       "      <td>0.121315</td>\n",
       "      <td>workflowhub_soykb_grid5000_schema-0-2_soykb-g5...</td>\n",
       "    </tr>\n",
       "  </tbody>\n",
       "</table>\n",
       "<p>144953 rows × 11 columns</p>\n",
       "</div>"
      ],
      "text/plain": [
       "     task.id  workflow.id  time.submit  time.ready  time.start  \\\n",
       "0          0            0      2930096     2930096     2930096   \n",
       "1          1            0      2948527     2948527     2948527   \n",
       "2          2            0      2989836     2989836     2989836   \n",
       "3          3            0      3010600     3010600     3010600   \n",
       "4          4            0      2935120     2935120     2935120   \n",
       "..       ...          ...          ...         ...         ...   \n",
       "747      747            0            0        6004        6004   \n",
       "748      748            0            0      233632      233632   \n",
       "749      749            0            0      233426      233426   \n",
       "750      750            0            0       67732       67732   \n",
       "751      751            0            0      232538      232538   \n",
       "\n",
       "     time.minimal.starttime  time.complete  time.runtime.original  \\\n",
       "0                   2930096        2950077                  13022   \n",
       "1                   2948527        2968398                  12950   \n",
       "2                   2989836        2992324                   1621   \n",
       "3                   3010600        3012245                   1645   \n",
       "4                   2935120        2955072                  13003   \n",
       "..                      ...            ...                    ...   \n",
       "747                    6004           6261                    167   \n",
       "748                  233632         312080                  78448   \n",
       "749                  233426         321547                  88121   \n",
       "750                   67732         200317                 132585   \n",
       "751                  232538         332363                  99825   \n",
       "\n",
       "     time.runtime.actual  energy.consumed  \\\n",
       "0                  19981         0.013831   \n",
       "1                  19871         0.013755   \n",
       "2                   2488         0.001722   \n",
       "3                   1645         0.001999   \n",
       "4                  19952         0.013811   \n",
       "..                   ...              ...   \n",
       "747                  257         0.000177   \n",
       "748                78448         0.095336   \n",
       "749                88121         0.107091   \n",
       "750               132585         0.161128   \n",
       "751                99825         0.121315   \n",
       "\n",
       "                                              filename  \n",
       "0        askalon-new_ee10_parquet_tpp_look_ahead_dcs_1  \n",
       "1        askalon-new_ee10_parquet_tpp_look_ahead_dcs_1  \n",
       "2        askalon-new_ee10_parquet_tpp_look_ahead_dcs_1  \n",
       "3        askalon-new_ee10_parquet_tpp_look_ahead_dcs_1  \n",
       "4        askalon-new_ee10_parquet_tpp_look_ahead_dcs_1  \n",
       "..                                                 ...  \n",
       "747  workflowhub_soykb_grid5000_schema-0-2_soykb-g5...  \n",
       "748  workflowhub_soykb_grid5000_schema-0-2_soykb-g5...  \n",
       "749  workflowhub_soykb_grid5000_schema-0-2_soykb-g5...  \n",
       "750  workflowhub_soykb_grid5000_schema-0-2_soykb-g5...  \n",
       "751  workflowhub_soykb_grid5000_schema-0-2_soykb-g5...  \n",
       "\n",
       "[144953 rows x 11 columns]"
      ]
     },
     "execution_count": 7,
     "metadata": {},
     "output_type": "execute_result"
    }
   ],
   "source": [
    "baseline_performance_dc1 = create_dataframe(path_ex1, 'tasks.tsv', '1', 'fastest_machine')\n",
    "lookahead_performance_dc1 = create_dataframe(path_ex1, 'tasks.tsv', '1', 'look_ahead')\n",
    "\n",
    "lookahead_performance_dc1"
   ]
  }
 ],
 "metadata": {
  "kernelspec": {
   "display_name": "Python 3 (ipykernel)",
   "language": "python",
   "name": "python3"
  },
  "language_info": {
   "codemirror_mode": {
    "name": "ipython",
    "version": 3
   },
   "file_extension": ".py",
   "mimetype": "text/x-python",
   "name": "python",
   "nbconvert_exporter": "python",
   "pygments_lexer": "ipython3",
   "version": "3.10.8"
  }
 },
 "nbformat": 4,
 "nbformat_minor": 1
}
